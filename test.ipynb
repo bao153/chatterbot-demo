{
 "cells": [
  {
   "cell_type": "code",
   "execution_count": 3,
   "id": "incident-civilization",
   "metadata": {},
   "outputs": [],
   "source": [
    "from chatterbot import ChatBot"
   ]
  },
  {
   "cell_type": "code",
   "execution_count": 13,
   "id": "younger-traveler",
   "metadata": {},
   "outputs": [
    {
     "name": "stderr",
     "output_type": "stream",
     "text": [
      "[nltk_data] Downloading package averaged_perceptron_tagger to\n",
      "[nltk_data]     /Users/kevinnguyen/nltk_data...\n",
      "[nltk_data]   Package averaged_perceptron_tagger is already up-to-\n",
      "[nltk_data]       date!\n",
      "[nltk_data] Downloading package punkt to\n",
      "[nltk_data]     /Users/kevinnguyen/nltk_data...\n",
      "[nltk_data]   Package punkt is already up-to-date!\n",
      "[nltk_data] Downloading package stopwords to\n",
      "[nltk_data]     /Users/kevinnguyen/nltk_data...\n",
      "[nltk_data]   Package stopwords is already up-to-date!\n"
     ]
    }
   ],
   "source": [
    "chatbot = ChatBot(\"MyChatbot\")"
   ]
  },
  {
   "cell_type": "code",
   "execution_count": 14,
   "id": "characteristic-capacity",
   "metadata": {},
   "outputs": [
    {
     "name": "stdout",
     "output_type": "stream",
     "text": [
      "CPU times: user 21 µs, sys: 0 ns, total: 21 µs\n",
      "Wall time: 24.8 µs\n"
     ]
    }
   ],
   "source": [
    "%%time\n",
    "from chatterbot.trainers import ChatterBotCorpusTrainer\n",
    "trainer = ChatterBotCorpusTrainer(chatbot)"
   ]
  },
  {
   "cell_type": "code",
   "execution_count": 15,
   "id": "settled-wichita",
   "metadata": {},
   "outputs": [],
   "source": [
    "intro = [\"Chatterbot Demo\",\n",
    "         \"=\"*30 + \"Intro\" + \"=\"*30,\n",
    "         \"As you know, chatbots reside all over the Internet. In League of Legends, you can see them tasked with warning and censoring bad words that players might spout out in moments of frustration.\",\n",
    "         \"They can also help simulate an interaction between you and a human operator or even efficiently provide quick fixes to problems that people encounter on a frequent basis.\",\n",
    "         \"Facebook integrates a prime example of this: sometimes when you enter a relatively popular business page, a chatbot suddenly appears from the right bottom corner and asks if you need help with anything.\",\n",
    "         \"Chatbots like those are likely to have been programmed to remember textual data including past conversations about certain topics of interest.\",\n",
    "         \"In this demo, you will get to interact with Ironman as a chat that has been trained on his quotes. Have fun!\",\n",
    "         \"=\"*30 + \"Demo\" + \"=\"*30]"
   ]
  },
  {
   "cell_type": "code",
   "execution_count": 16,
   "id": "thrown-frost",
   "metadata": {},
   "outputs": [
    {
     "name": "stdin",
     "output_type": "stream",
     "text": [
      "Enter to read more > \n"
     ]
    },
    {
     "name": "stdout",
     "output_type": "stream",
     "text": [
      "Chatterbot Demo\n"
     ]
    },
    {
     "name": "stdin",
     "output_type": "stream",
     "text": [
      "Enter to read more > \n"
     ]
    },
    {
     "name": "stdout",
     "output_type": "stream",
     "text": [
      "==============================Intro==============================\n"
     ]
    },
    {
     "name": "stdin",
     "output_type": "stream",
     "text": [
      "Enter to read more > \n"
     ]
    },
    {
     "name": "stdout",
     "output_type": "stream",
     "text": [
      "As you know, chatbots reside all over the Internet. In League of Legends, you can see them tasked with warning and censoring bad words that players might spout out in moments of frustration.\n"
     ]
    },
    {
     "name": "stdin",
     "output_type": "stream",
     "text": [
      "Enter to read more > \n"
     ]
    },
    {
     "name": "stdout",
     "output_type": "stream",
     "text": [
      "They can also help simulate an interaction between you and a human operator or even efficiently provide quick fixes to problems that people encounter on a frequent basis.\n"
     ]
    },
    {
     "name": "stdin",
     "output_type": "stream",
     "text": [
      "Enter to read more > \n"
     ]
    },
    {
     "name": "stdout",
     "output_type": "stream",
     "text": [
      "Facebook integrates a prime example of this: sometimes when you enter a relatively popular business page, a chatbot suddenly appears from the right bottom corner and asks if you need help with anything.\n"
     ]
    },
    {
     "name": "stdin",
     "output_type": "stream",
     "text": [
      "Enter to read more > \n"
     ]
    },
    {
     "name": "stdout",
     "output_type": "stream",
     "text": [
      "Chatbots like those are likely to have been programmed to remember textual data including past conversations about certain topics of interest.\n"
     ]
    },
    {
     "name": "stdin",
     "output_type": "stream",
     "text": [
      "Enter to read more > \n"
     ]
    },
    {
     "name": "stdout",
     "output_type": "stream",
     "text": [
      "In this demo, you will get to interact with Ironman as a chat that has been trained on his quotes. Have fun!\n"
     ]
    },
    {
     "name": "stdin",
     "output_type": "stream",
     "text": [
      "Enter to read more > \n"
     ]
    },
    {
     "name": "stdout",
     "output_type": "stream",
     "text": [
      "==============================Demo==============================\n"
     ]
    },
    {
     "name": "stdin",
     "output_type": "stream",
     "text": [
      "Enter to talk to Ironman \n"
     ]
    },
    {
     "name": "stdout",
     "output_type": "stream",
     "text": [
      "Training Ironman.json: [####################] 100%\n"
     ]
    },
    {
     "name": "stdin",
     "output_type": "stream",
     "text": [
      "Ask a question:  who are you\n"
     ]
    },
    {
     "name": "stdout",
     "output_type": "stream",
     "text": [
      "Genius, Billionaire, Playboy, Philanthropist\n"
     ]
    },
    {
     "name": "stdin",
     "output_type": "stream",
     "text": [
      "Ask a question:  what happened to you\n"
     ]
    },
    {
     "name": "stdout",
     "output_type": "stream",
     "text": [
      "Sometimes you gotta run before you can walk\n"
     ]
    },
    {
     "name": "stdin",
     "output_type": "stream",
     "text": [
      "Ask a question:  how's your sleep?\n"
     ]
    },
    {
     "name": "stdout",
     "output_type": "stream",
     "text": [
      "I build neat stuff, got a great girl, occasionally save the world. So why can’t I sleep?\n"
     ]
    },
    {
     "name": "stdin",
     "output_type": "stream",
     "text": [
      "Ask a question:  I gotta go now\n"
     ]
    },
    {
     "name": "stdout",
     "output_type": "stream",
     "text": [
      "Part of the Journey is the End\n"
     ]
    },
    {
     "name": "stdin",
     "output_type": "stream",
     "text": [
      "Ask a question:  Bye\n"
     ]
    },
    {
     "name": "stdout",
     "output_type": "stream",
     "text": [
      "I love you 3000\n"
     ]
    }
   ],
   "source": [
    "for i, sentence in enumerate(intro):\n",
    "    while True:\n",
    "        if (i == 0):\n",
    "            inp = input(\"Enter to read more >\")\n",
    "            print(sentence)\n",
    "            break\n",
    "        else: \n",
    "            inp = input()\n",
    "            print(sentence)\n",
    "            break\n",
    "    \n",
    "inp = input(\"Enter to talk to Ironman\")\n",
    "trainer.train(\"./data/Ironman.json\")\n",
    "\n",
    "while True:\n",
    "    try:\n",
    "        user_input = input(\"Ask a question: \")\n",
    "        bot_response = chatbot.get_response(user_input)\n",
    "        print(bot_response)\n",
    "\n",
    "    except (KeyboardInterrupt, EOFError, SystemExit):\n",
    "        break"
   ]
  }
 ],
 "metadata": {
  "kernelspec": {
   "display_name": "Python 3",
   "language": "python",
   "name": "python3"
  },
  "language_info": {
   "codemirror_mode": {
    "name": "ipython",
    "version": 3
   },
   "file_extension": ".py",
   "mimetype": "text/x-python",
   "name": "python",
   "nbconvert_exporter": "python",
   "pygments_lexer": "ipython3",
   "version": "3.8.5"
  }
 },
 "nbformat": 4,
 "nbformat_minor": 5
}
